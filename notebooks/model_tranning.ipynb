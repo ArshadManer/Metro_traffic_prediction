{
 "cells": [
  {
   "cell_type": "code",
   "execution_count": 1,
   "metadata": {},
   "outputs": [],
   "source": [
    "import pandas as pd\n",
    "import numpy as np\n",
    "import os\n",
    "import matplotlib.pyplot as plt\n",
    "from sklearn.model_selection import train_test_split\n",
    "\n",
    "from sklearn.linear_model import LinearRegression\n",
    "from sklearn.ensemble import RandomForestRegressor,GradientBoostingRegressor\n",
    "from sklearn.tree import DecisionTreeRegressor\n",
    "\n",
    "from sklearn.metrics import mean_squared_error, r2_score\n",
    "import pickle"
   ]
  },
  {
   "cell_type": "code",
   "execution_count": 2,
   "metadata": {},
   "outputs": [
    {
     "data": {
      "text/html": [
       "<div>\n",
       "<style scoped>\n",
       "    .dataframe tbody tr th:only-of-type {\n",
       "        vertical-align: middle;\n",
       "    }\n",
       "\n",
       "    .dataframe tbody tr th {\n",
       "        vertical-align: top;\n",
       "    }\n",
       "\n",
       "    .dataframe thead th {\n",
       "        text-align: right;\n",
       "    }\n",
       "</style>\n",
       "<table border=\"1\" class=\"dataframe\">\n",
       "  <thead>\n",
       "    <tr style=\"text-align: right;\">\n",
       "      <th></th>\n",
       "      <th>holiday</th>\n",
       "      <th>temp</th>\n",
       "      <th>rain_1h</th>\n",
       "      <th>snow_1h</th>\n",
       "      <th>clouds_all</th>\n",
       "      <th>traffic_volume</th>\n",
       "      <th>Day</th>\n",
       "      <th>Month</th>\n",
       "      <th>Year</th>\n",
       "      <th>time_category</th>\n",
       "      <th>x0_Clear</th>\n",
       "      <th>x0_Cloudy</th>\n",
       "      <th>x0_Rainy</th>\n",
       "    </tr>\n",
       "  </thead>\n",
       "  <tbody>\n",
       "    <tr>\n",
       "      <th>0</th>\n",
       "      <td>0.0</td>\n",
       "      <td>15.13</td>\n",
       "      <td>0.0</td>\n",
       "      <td>0.0</td>\n",
       "      <td>40.0</td>\n",
       "      <td>5545.0</td>\n",
       "      <td>4.0</td>\n",
       "      <td>2.0</td>\n",
       "      <td>2012.0</td>\n",
       "      <td>1.0</td>\n",
       "      <td>0.0</td>\n",
       "      <td>1.0</td>\n",
       "      <td>0.0</td>\n",
       "    </tr>\n",
       "    <tr>\n",
       "      <th>1</th>\n",
       "      <td>0.0</td>\n",
       "      <td>16.21</td>\n",
       "      <td>0.0</td>\n",
       "      <td>0.0</td>\n",
       "      <td>75.0</td>\n",
       "      <td>4516.0</td>\n",
       "      <td>4.0</td>\n",
       "      <td>2.0</td>\n",
       "      <td>2012.0</td>\n",
       "      <td>1.0</td>\n",
       "      <td>0.0</td>\n",
       "      <td>1.0</td>\n",
       "      <td>0.0</td>\n",
       "    </tr>\n",
       "    <tr>\n",
       "      <th>2</th>\n",
       "      <td>0.0</td>\n",
       "      <td>16.43</td>\n",
       "      <td>0.0</td>\n",
       "      <td>0.0</td>\n",
       "      <td>90.0</td>\n",
       "      <td>4767.0</td>\n",
       "      <td>4.0</td>\n",
       "      <td>2.0</td>\n",
       "      <td>2012.0</td>\n",
       "      <td>1.0</td>\n",
       "      <td>0.0</td>\n",
       "      <td>1.0</td>\n",
       "      <td>0.0</td>\n",
       "    </tr>\n",
       "    <tr>\n",
       "      <th>3</th>\n",
       "      <td>0.0</td>\n",
       "      <td>16.98</td>\n",
       "      <td>0.0</td>\n",
       "      <td>0.0</td>\n",
       "      <td>90.0</td>\n",
       "      <td>5026.0</td>\n",
       "      <td>4.0</td>\n",
       "      <td>2.0</td>\n",
       "      <td>2012.0</td>\n",
       "      <td>2.0</td>\n",
       "      <td>0.0</td>\n",
       "      <td>1.0</td>\n",
       "      <td>0.0</td>\n",
       "    </tr>\n",
       "    <tr>\n",
       "      <th>4</th>\n",
       "      <td>0.0</td>\n",
       "      <td>17.99</td>\n",
       "      <td>0.0</td>\n",
       "      <td>0.0</td>\n",
       "      <td>75.0</td>\n",
       "      <td>4918.0</td>\n",
       "      <td>4.0</td>\n",
       "      <td>2.0</td>\n",
       "      <td>2012.0</td>\n",
       "      <td>2.0</td>\n",
       "      <td>0.0</td>\n",
       "      <td>1.0</td>\n",
       "      <td>0.0</td>\n",
       "    </tr>\n",
       "  </tbody>\n",
       "</table>\n",
       "</div>"
      ],
      "text/plain": [
       "   holiday   temp  rain_1h  snow_1h  clouds_all  traffic_volume  Day  Month  \\\n",
       "0      0.0  15.13      0.0      0.0        40.0          5545.0  4.0    2.0   \n",
       "1      0.0  16.21      0.0      0.0        75.0          4516.0  4.0    2.0   \n",
       "2      0.0  16.43      0.0      0.0        90.0          4767.0  4.0    2.0   \n",
       "3      0.0  16.98      0.0      0.0        90.0          5026.0  4.0    2.0   \n",
       "4      0.0  17.99      0.0      0.0        75.0          4918.0  4.0    2.0   \n",
       "\n",
       "     Year  time_category  x0_Clear  x0_Cloudy  x0_Rainy  \n",
       "0  2012.0            1.0       0.0        1.0       0.0  \n",
       "1  2012.0            1.0       0.0        1.0       0.0  \n",
       "2  2012.0            1.0       0.0        1.0       0.0  \n",
       "3  2012.0            2.0       0.0        1.0       0.0  \n",
       "4  2012.0            2.0       0.0        1.0       0.0  "
      ]
     },
     "execution_count": 2,
     "metadata": {},
     "output_type": "execute_result"
    }
   ],
   "source": [
    "# use pandas to make a df\n",
    "base_path = os.path.dirname(os.getcwd())\n",
    "df = pd.read_csv(os.path.join(base_path,r'data\\processed\\Encoded_data.csv'),index_col=\"Unnamed: 0\")\n",
    "df.head()"
   ]
  },
  {
   "cell_type": "code",
   "execution_count": 3,
   "metadata": {},
   "outputs": [],
   "source": [
    "x = df.drop(columns=[\"traffic_volume\",],axis = 1)\n",
    "y =df[\"traffic_volume\"]"
   ]
  },
  {
   "cell_type": "code",
   "execution_count": 7,
   "metadata": {},
   "outputs": [],
   "source": [
    " x_train, x_test, y_train, y_test = train_test_split(x,y,test_size=0.2,random_state=42)"
   ]
  },
  {
   "cell_type": "code",
   "execution_count": 8,
   "metadata": {},
   "outputs": [],
   "source": [
    "def train_test_various_models(models, x_train, x_test, y_train, y_test):\n",
    "    best_model = None\n",
    "    best_r2_score = -float('inf')\n",
    "    \n",
    "    for model_name, model in models.items():\n",
    "        model.fit(x_train, y_train)\n",
    "        pred = model.predict(x_test)\n",
    "        \n",
    "        r2 = r2_score(y_test, pred)\n",
    "        mse = np.sqrt(mean_squared_error(y_test, pred))\n",
    "        \n",
    "        print(f\"R2 score of data using {model_name}: {r2}\")\n",
    "        print(f\"Root Mean Squared Error of data using {model_name}: {mse}\\n\")\n",
    "        \n",
    "        if r2 > best_r2_score:\n",
    "            best_r2_score = r2\n",
    "            best_model = model\n",
    "    \n",
    "    return best_model"
   ]
  },
  {
   "cell_type": "code",
   "execution_count": 9,
   "metadata": {},
   "outputs": [],
   "source": [
    "models = {\n",
    "    'linear_regression': LinearRegression(),\n",
    "    'decision_tree_regressor': DecisionTreeRegressor(),\n",
    "    'random_forest_regressor': RandomForestRegressor(),\n",
    "    'Gradient_Boosting_regressor' :  GradientBoostingRegressor()\n",
    "}"
   ]
  },
  {
   "cell_type": "code",
   "execution_count": 10,
   "metadata": {},
   "outputs": [
    {
     "name": "stdout",
     "output_type": "stream",
     "text": [
      "R2 score of data using linear_regression: 0.25702566012213035\n",
      "Root Mean Squared Error of data using linear_regression: 1709.5704379604117\n",
      "\n",
      "R2 score of data using decision_tree_regressor: 0.6270488964741856\n",
      "Root Mean Squared Error of data using decision_tree_regressor: 1211.2283858866863\n",
      "\n",
      "R2 score of data using random_forest_regressor: 0.7760746352848\n",
      "Root Mean Squared Error of data using random_forest_regressor: 938.537731691811\n",
      "\n",
      "R2 score of data using Gradient_Boosting_regressor: 0.7095725038067416\n",
      "Root Mean Squared Error of data using Gradient_Boosting_regressor: 1068.8554040788385\n",
      "\n",
      "Best Model: RandomForestRegressor()\n"
     ]
    }
   ],
   "source": [
    "best_model = train_test_various_models(models, x_train, x_test, y_train, y_test)\n",
    "print(\"Best Model:\", best_model)"
   ]
  },
  {
   "cell_type": "code",
   "execution_count": null,
   "metadata": {},
   "outputs": [],
   "source": [
    "pickle_file = os.path.join(base_path, 'saved_models', 'best_model.pickle')\n",
    "with open(pickle_file, 'wb') as f:\n",
    "    pickle.dump(best_model, f, protocol=2)"
   ]
  },
  {
   "cell_type": "code",
   "execution_count": null,
   "metadata": {},
   "outputs": [],
   "source": []
  }
 ],
 "metadata": {
  "kernelspec": {
   "display_name": "Python 3",
   "language": "python",
   "name": "python3"
  },
  "language_info": {
   "codemirror_mode": {
    "name": "ipython",
    "version": 3
   },
   "file_extension": ".py",
   "mimetype": "text/x-python",
   "name": "python",
   "nbconvert_exporter": "python",
   "pygments_lexer": "ipython3",
   "version": "3.9.13"
  },
  "orig_nbformat": 4
 },
 "nbformat": 4,
 "nbformat_minor": 2
}
